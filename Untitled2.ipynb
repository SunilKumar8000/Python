{
  "nbformat": 4,
  "nbformat_minor": 0,
  "metadata": {
    "colab": {
      "provenance": []
    },
    "kernelspec": {
      "name": "python3",
      "display_name": "Python 3"
    },
    "language_info": {
      "name": "python"
    }
  },
  "cells": [
    {
      "cell_type": "code",
      "execution_count": null,
      "metadata": {
        "colab": {
          "base_uri": "https://localhost:8080/"
        },
        "id": "3GjKVHqYWqe1",
        "outputId": "37d20ef6-c3c6-4978-c789-932573b05dc5"
      },
      "outputs": [
        {
          "output_type": "stream",
          "name": "stdout",
          "text": [
            "New created array : 2 4 6 8 10 \r\n"
          ]
        }
      ],
      "source": [
        "import array\n",
        "# intializing an array with array values and signed integers\n",
        "arr = array.array('I',[2,4,6,8,10,12])\n",
        "#print the original array\n",
        "print (\"New created array : \",end=\"\")\n",
        "for I in range (0,5):\n",
        "  print (arr[I], end=\" \")\n",
        "print (\"\\r\")\n"
      ]
    },
    {
      "cell_type": "code",
      "source": [
        "#importing pandas as pd\n",
        "import pandas as pd\n",
        "# dictionary of list\n",
        "dict = {'name':[\"deepak\",\"sunil\",\"sachin\",\"aditya\"],\n",
        "  'age':[\"12\",\"23\",\"23\",\"22\"]}\n",
        "info = pd.DataFrame(dict,index = [True,True,False,False])\n",
        "print(info)"
      ],
      "metadata": {
        "colab": {
          "base_uri": "https://localhost:8080/"
        },
        "id": "TO21VFR3afZZ",
        "outputId": "13c9eb50-971f-46fa-eb39-cdfcc6622fc8"
      },
      "execution_count": null,
      "outputs": [
        {
          "output_type": "stream",
          "name": "stdout",
          "text": [
            "         name age\n",
            "True   deepak  12\n",
            "True    sunil  23\n",
            "False  sachin  23\n",
            "False  aditya  22\n"
          ]
        }
      ]
    },
    {
      "cell_type": "code",
      "source": [
        "import numpy as np\n",
        "arr = np.arange(16)\n",
        "print(\"The Original array is: \\n,arr\")\n",
        "#shape array with 2 rows and 8 columns\n",
        "arr = np.arange(16).reshape(2,8)\n",
        "print(\"\\nreshapearray:\\n\",arr)\n",
        "#shape array with 2 rows and 8 columns\n",
        "arr = np.arange(16).reshape(8,2)\n",
        "print(\"\\nreshaped array: \\n\",arr)"
      ],
      "metadata": {
        "id": "XbUOymlQdUSN",
        "colab": {
          "base_uri": "https://localhost:8080/"
        },
        "outputId": "5f83c1c1-750f-4034-cd3b-81b29ba4b346"
      },
      "execution_count": 1,
      "outputs": [
        {
          "output_type": "stream",
          "name": "stdout",
          "text": [
            "The Original array is: \n",
            ",arr\n",
            "\n",
            "reshapearray:\n",
            " [[ 0  1  2  3  4  5  6  7]\n",
            " [ 8  9 10 11 12 13 14 15]]\n",
            "\n",
            "reshaped array: \n",
            " [[ 0  1]\n",
            " [ 2  3]\n",
            " [ 4  5]\n",
            " [ 6  7]\n",
            " [ 8  9]\n",
            " [10 11]\n",
            " [12 13]\n",
            " [14 15]]\n"
          ]
        }
      ]
    }
  ]
}